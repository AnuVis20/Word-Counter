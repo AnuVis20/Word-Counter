{
 "cells": [
  {
   "cell_type": "markdown",
   "id": "c9b22c90",
   "metadata": {},
   "source": [
    "# Function to count the number of words in a given text  file along with the most recurrent word"
   ]
  },
  {
   "cell_type": "code",
   "execution_count": 17,
   "id": "bf605ab4",
   "metadata": {},
   "outputs": [],
   "source": [
    "def word_count(file_name):\n",
    "    dics = {}\n",
    "    file = file_name + \".txt\"\n",
    "    fh = open(file,'r')\n",
    "    text = fh.read()\n",
    "    fh.close()\n",
    "    text.rstrip()\n",
    "    lines = text.split(\"\\n\")\n",
    "    \n",
    "    count_all = 0\n",
    "    count_word = 0\n",
    "    for line in lines:\n",
    "        words = line.split(\" \")\n",
    "        for word in words:\n",
    "            count_all += 1\n",
    "            if word.isalpha():\n",
    "                count_word += 1\n",
    "                dics[word] = dics.get(word, 0) + 1\n",
    "                \n",
    "    highest = 0\n",
    "    recurrent = \"\"\n",
    "    for key in dics:\n",
    "        if key.isalpha():\n",
    "            if dics[key] > highest:\n",
    "                highest = dics[key]\n",
    "                recurrent = key\n",
    "    return count_all, count_word, recurrent, highest"
   ]
  },
  {
   "cell_type": "markdown",
   "id": "e8724396",
   "metadata": {},
   "source": [
    "# Function call"
   ]
  },
  {
   "cell_type": "markdown",
   "id": "f9d3eb22",
   "metadata": {},
   "source": [
    "## 1. With email.txt file"
   ]
  },
  {
   "cell_type": "code",
   "execution_count": 20,
   "id": "039df13e",
   "metadata": {
    "scrolled": false
   },
   "outputs": [
    {
     "name": "stdout",
     "output_type": "stream",
     "text": [
      "Enter the name of the file : email\n",
      "******************************\n",
      "There are total 9637 words including non alphabet characters in the file email \n",
      "Total number of words: 2625\n",
      "******************************\n",
      "Jan : 352\n"
     ]
    }
   ],
   "source": [
    "file_name = input(\"Enter the name of the file : \")\n",
    "print(\"*\"*30)\n",
    "\n",
    "alls , words_all, one_word, number = word_count(file_name)\n",
    "\n",
    "print(\"There are total\",alls,\"words including non alphabet characters in the file\",file_name,\"\\n\"+\n",
    "      \"Total number of words:\",words_all)\n",
    "print(\"*\"*30)\n",
    "print(one_word,\":\",number)"
   ]
  },
  {
   "cell_type": "markdown",
   "id": "03ec86c0",
   "metadata": {},
   "source": [
    "## 2. With romeo.txt file"
   ]
  },
  {
   "cell_type": "code",
   "execution_count": 19,
   "id": "5bd44f10",
   "metadata": {},
   "outputs": [
    {
     "name": "stdout",
     "output_type": "stream",
     "text": [
      "Enter the name of the file : romeo\n",
      "******************************\n",
      "There are total 33 words including non alphabet characters in the file romeo \n",
      "Total number of words: 33\n",
      "******************************\n",
      "is : 3\n"
     ]
    }
   ],
   "source": [
    "file_name = input(\"Enter the name of the file : \")\n",
    "print(\"*\"*30)\n",
    "\n",
    "alls , words_all, one_word, number = word_count(file_name)\n",
    "\n",
    "print(\"There are total\",alls,\"words including non alphabet characters in the file\",file_name,\"\\n\"+\n",
    "      \"Total number of words:\",words_all)\n",
    "print(\"*\"*30)\n",
    "print(one_word,\":\",number)"
   ]
  },
  {
   "cell_type": "markdown",
   "id": "5011fdd5",
   "metadata": {},
   "source": [
    "## 3. With cancer.txt file"
   ]
  },
  {
   "cell_type": "code",
   "execution_count": 21,
   "id": "aefcd9ba",
   "metadata": {},
   "outputs": [
    {
     "name": "stdout",
     "output_type": "stream",
     "text": [
      "Enter the name of the file : cancer\n",
      "******************************\n",
      "There are total 885 words including non alphabet characters in the file cancer \n",
      "Total number of words: 730\n",
      "******************************\n",
      "the : 36\n"
     ]
    }
   ],
   "source": [
    "file_name = input(\"Enter the name of the file : \")\n",
    "print(\"*\"*30)\n",
    "\n",
    "alls , words_all, one_word, number = word_count(file_name)\n",
    "\n",
    "print(\"There are total\",alls,\"words including non alphabet characters in the file\",file_name,\"\\n\"+\n",
    "      \"Total number of words:\",words_all)\n",
    "print(\"*\"*30)\n",
    "print(one_word,\":\",number)"
   ]
  },
  {
   "cell_type": "code",
   "execution_count": null,
   "id": "ef20d3b1",
   "metadata": {},
   "outputs": [],
   "source": []
  }
 ],
 "metadata": {
  "kernelspec": {
   "display_name": "Python 3",
   "language": "python",
   "name": "python3"
  },
  "language_info": {
   "codemirror_mode": {
    "name": "ipython",
    "version": 3
   },
   "file_extension": ".py",
   "mimetype": "text/x-python",
   "name": "python",
   "nbconvert_exporter": "python",
   "pygments_lexer": "ipython3",
   "version": "3.8.8"
  }
 },
 "nbformat": 4,
 "nbformat_minor": 5
}
